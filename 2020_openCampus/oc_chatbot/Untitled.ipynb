{
 "cells": [
  {
   "cell_type": "code",
   "execution_count": 2,
   "metadata": {},
   "outputs": [
    {
     "name": "stdin",
     "output_type": "stream",
     "text": [
      " こんにちは\n"
     ]
    }
   ],
   "source": [
    "greed = input()"
   ]
  },
  {
   "cell_type": "code",
   "execution_count": 3,
   "metadata": {},
   "outputs": [
    {
     "data": {
      "text/plain": [
       "'こんにちは'"
      ]
     },
     "execution_count": 3,
     "metadata": {},
     "output_type": "execute_result"
    }
   ],
   "source": [
    "greed"
   ]
  },
  {
   "cell_type": "code",
   "execution_count": 4,
   "metadata": {},
   "outputs": [
    {
     "name": "stdin",
     "output_type": "stream",
     "text": [
      " こんばんわ\n"
     ]
    },
    {
     "name": "stdout",
     "output_type": "stream",
     "text": [
      "こんばんわ\n"
     ]
    }
   ],
   "source": [
    "greed = input()\n",
    "print(greed)"
   ]
  },
  {
   "cell_type": "code",
   "execution_count": 13,
   "metadata": {},
   "outputs": [
    {
     "name": "stdin",
     "output_type": "stream",
     "text": [
      " k\n"
     ]
    },
    {
     "name": "stdout",
     "output_type": "stream",
     "text": [
      "k あなたの名前を教えてください\n"
     ]
    },
    {
     "name": "stdin",
     "output_type": "stream",
     "text": [
      " 英哲です\n"
     ]
    },
    {
     "name": "stdout",
     "output_type": "stream",
     "text": [
      "英哲さんですね、初めまして\n"
     ]
    }
   ],
   "source": [
    "greed = input()\n",
    "print(greed, 'あなたの名前を教えてください')\n",
    "name = input()\n",
    "name = name.replace('です',\"\")\n",
    "name = name.replace('。',\"\")\n",
    "print('{}さんですね、初めまして'.format(name))"
   ]
  },
  {
   "cell_type": "code",
   "execution_count": 21,
   "metadata": {},
   "outputs": [
    {
     "name": "stdin",
     "output_type": "stream",
     "text": [
      " こんにちは。\n"
     ]
    },
    {
     "name": "stdout",
     "output_type": "stream",
     "text": [
      "こんにちは、お名前はなんですか？\n"
     ]
    }
   ],
   "source": [
    "def chat(utter):\n",
    "    if \"こんにちは\" in utter:\n",
    "        reply = \"こんにちは、お名前はなんですか？\"\n",
    "    elif \"食堂\" in utter:\n",
    "        reply = \"かけそば大盛りが美味しいです。\"\n",
    "    elif \"ジム\" in utter:\n",
    "        reply = \"学生が使えます。ガチな人もいます。\"\n",
    "    else:\n",
    "        reply = \"すみません、よくわかりません。\"\n",
    "    return reply\n",
    "utter = input()\n",
    "reply = chat(utter)\n",
    "print(reply)"
   ]
  },
  {
   "cell_type": "code",
   "execution_count": 6,
   "metadata": {},
   "outputs": [
    {
     "name": "stdout",
     "output_type": "stream",
     "text": [
      "以下↓のurlを参照してください。\n",
      "https://www.waseda.jp/fhum/hum/about/\n"
     ]
    }
   ],
   "source": [
    "import MeCab\n",
    "import re\n",
    "import pandas as pd\n",
    "\n",
    "mecab = MeCab.Tagger(\"-d /usr/local/lib/mecab/dic/mecab-ipadic-neologd\")\n",
    "\n",
    "\n",
    "def sentence_to_morphs(parser, sentence, delimiters='[\\t,]'):\n",
    "    morphs = []\n",
    "    \n",
    "    sentence = parser.parse(sentence).split(\"\\n\")\n",
    "    for s in sentence:\n",
    "        if s == \"EOS\" or s == \"\":\n",
    "            continue\n",
    "            \n",
    "        s = re.split(delimiters, s)\n",
    "        if len(s) != 10:\n",
    "            # maybe neologd only return 8? (no read, pronouce)\n",
    "            # or error?\n",
    "            s = s + [\"*\"] * (10-len(s))\n",
    "            \n",
    "        info = {\n",
    "            \"surface\": s[0],\n",
    "            \"pos\": s[1],  # part-of-speech\n",
    "            \"pos1\": s[2],\n",
    "            \"pos2\": s[3],\n",
    "            \"pos3\": s[4],\n",
    "            \"type\": s[5], # practical type?\n",
    "            \"form\": s[6],\n",
    "            \"base\": s[7],\n",
    "            \"read\": s[8],\n",
    "            \"pronounce\": s[9],\n",
    "        }\n",
    "        morphs.append(info)\n",
    "    \n",
    "    return morphs\n",
    "\n",
    "morphs = sentence_to_morphs(mecab, \"人間科学部について教えてください\")\n",
    "morph_df = pd.DataFrame(morphs)\n",
    "\n",
    "def defalt(url):\n",
    "    if url is not '':  \n",
    "        print('以下↓のurlを参照してください。')\n",
    "        print(url)\n",
    "\n",
    "for row in morph_df['surface']:\n",
    "    url = ''\n",
    "    if '人間科学部' in row:\n",
    "        url = 'https://www.waseda.jp/fhum/hum/about/'\n",
    "    elif '受験' in row:\n",
    "        url = 'https://www.waseda.jp/fhum/hum/applicants/'\n",
    "    elif 'キャンパス' in row:\n",
    "        url = 'https://www.waseda.jp/fhum/hum/campus-life/'\n",
    "    elif '施設' in row:\n",
    "        url = 'https://www.waseda.jp/fhum/hum/facility/'\n",
    "    elif '問合' in row:\n",
    "        url = 'https://www.waseda.jp/fhum/hum/contact/'\n",
    "    elif 'ゼミ' in row:\n",
    "        url = 'http://www.f.waseda.jp/kikuchi/'\n",
    "    defalt(url)"
   ]
  },
  {
   "cell_type": "code",
   "execution_count": 18,
   "metadata": {},
   "outputs": [
    {
     "data": {
      "text/html": [
       "<div>\n",
       "<style scoped>\n",
       "    .dataframe tbody tr th:only-of-type {\n",
       "        vertical-align: middle;\n",
       "    }\n",
       "\n",
       "    .dataframe tbody tr th {\n",
       "        vertical-align: top;\n",
       "    }\n",
       "\n",
       "    .dataframe thead th {\n",
       "        text-align: right;\n",
       "    }\n",
       "</style>\n",
       "<table border=\"1\" class=\"dataframe\">\n",
       "  <thead>\n",
       "    <tr style=\"text-align: right;\">\n",
       "      <th></th>\n",
       "      <th>surface</th>\n",
       "      <th>pos</th>\n",
       "      <th>pos1</th>\n",
       "      <th>pos2</th>\n",
       "      <th>pos3</th>\n",
       "      <th>type</th>\n",
       "      <th>form</th>\n",
       "      <th>base</th>\n",
       "      <th>read</th>\n",
       "      <th>pronounce</th>\n",
       "    </tr>\n",
       "  </thead>\n",
       "  <tbody>\n",
       "    <tr>\n",
       "      <th>0</th>\n",
       "      <td>隣</td>\n",
       "      <td>名詞</td>\n",
       "      <td>一般</td>\n",
       "      <td>*</td>\n",
       "      <td>*</td>\n",
       "      <td>*</td>\n",
       "      <td>*</td>\n",
       "      <td>隣</td>\n",
       "      <td>トナリ</td>\n",
       "      <td>トナリ</td>\n",
       "    </tr>\n",
       "    <tr>\n",
       "      <th>1</th>\n",
       "      <td>の</td>\n",
       "      <td>助詞</td>\n",
       "      <td>連体化</td>\n",
       "      <td>*</td>\n",
       "      <td>*</td>\n",
       "      <td>*</td>\n",
       "      <td>*</td>\n",
       "      <td>の</td>\n",
       "      <td>ノ</td>\n",
       "      <td>ノ</td>\n",
       "    </tr>\n",
       "    <tr>\n",
       "      <th>2</th>\n",
       "      <td>客</td>\n",
       "      <td>名詞</td>\n",
       "      <td>一般</td>\n",
       "      <td>*</td>\n",
       "      <td>*</td>\n",
       "      <td>*</td>\n",
       "      <td>*</td>\n",
       "      <td>客</td>\n",
       "      <td>キャク</td>\n",
       "      <td>キャク</td>\n",
       "    </tr>\n",
       "    <tr>\n",
       "      <th>3</th>\n",
       "      <td>は</td>\n",
       "      <td>助詞</td>\n",
       "      <td>係助詞</td>\n",
       "      <td>*</td>\n",
       "      <td>*</td>\n",
       "      <td>*</td>\n",
       "      <td>*</td>\n",
       "      <td>は</td>\n",
       "      <td>ハ</td>\n",
       "      <td>ワ</td>\n",
       "    </tr>\n",
       "    <tr>\n",
       "      <th>4</th>\n",
       "      <td>よく</td>\n",
       "      <td>副詞</td>\n",
       "      <td>一般</td>\n",
       "      <td>*</td>\n",
       "      <td>*</td>\n",
       "      <td>*</td>\n",
       "      <td>*</td>\n",
       "      <td>よく</td>\n",
       "      <td>ヨク</td>\n",
       "      <td>ヨク</td>\n",
       "    </tr>\n",
       "    <tr>\n",
       "      <th>5</th>\n",
       "      <td>柿</td>\n",
       "      <td>名詞</td>\n",
       "      <td>一般</td>\n",
       "      <td>*</td>\n",
       "      <td>*</td>\n",
       "      <td>*</td>\n",
       "      <td>*</td>\n",
       "      <td>柿</td>\n",
       "      <td>カキ</td>\n",
       "      <td>カキ</td>\n",
       "    </tr>\n",
       "    <tr>\n",
       "      <th>6</th>\n",
       "      <td>食う</td>\n",
       "      <td>動詞</td>\n",
       "      <td>自立</td>\n",
       "      <td>*</td>\n",
       "      <td>*</td>\n",
       "      <td>五段・ワ行促音便</td>\n",
       "      <td>基本形</td>\n",
       "      <td>食う</td>\n",
       "      <td>クウ</td>\n",
       "      <td>クウ</td>\n",
       "    </tr>\n",
       "    <tr>\n",
       "      <th>7</th>\n",
       "      <td>客</td>\n",
       "      <td>名詞</td>\n",
       "      <td>一般</td>\n",
       "      <td>*</td>\n",
       "      <td>*</td>\n",
       "      <td>*</td>\n",
       "      <td>*</td>\n",
       "      <td>客</td>\n",
       "      <td>キャク</td>\n",
       "      <td>キャク</td>\n",
       "    </tr>\n",
       "    <tr>\n",
       "      <th>8</th>\n",
       "      <td>だ</td>\n",
       "      <td>助動詞</td>\n",
       "      <td>*</td>\n",
       "      <td>*</td>\n",
       "      <td>*</td>\n",
       "      <td>特殊・ダ</td>\n",
       "      <td>基本形</td>\n",
       "      <td>だ</td>\n",
       "      <td>ダ</td>\n",
       "      <td>ダ</td>\n",
       "    </tr>\n",
       "    <tr>\n",
       "      <th>9</th>\n",
       "      <td>。</td>\n",
       "      <td>記号</td>\n",
       "      <td>句点</td>\n",
       "      <td>*</td>\n",
       "      <td>*</td>\n",
       "      <td>*</td>\n",
       "      <td>*</td>\n",
       "      <td>。</td>\n",
       "      <td>。</td>\n",
       "      <td>。</td>\n",
       "    </tr>\n",
       "  </tbody>\n",
       "</table>\n",
       "</div>"
      ],
      "text/plain": [
       "  surface  pos pos1 pos2 pos3      type form base read pronounce\n",
       "0       隣   名詞   一般    *    *         *    *    隣  トナリ       トナリ\n",
       "1       の   助詞  連体化    *    *         *    *    の    ノ         ノ\n",
       "2       客   名詞   一般    *    *         *    *    客  キャク       キャク\n",
       "3       は   助詞  係助詞    *    *         *    *    は    ハ         ワ\n",
       "4      よく   副詞   一般    *    *         *    *   よく   ヨク        ヨク\n",
       "5       柿   名詞   一般    *    *         *    *    柿   カキ        カキ\n",
       "6      食う   動詞   自立    *    *  五段・ワ行促音便  基本形   食う   クウ        クウ\n",
       "7       客   名詞   一般    *    *         *    *    客  キャク       キャク\n",
       "8       だ  助動詞    *    *    *      特殊・ダ  基本形    だ    ダ         ダ\n",
       "9       。   記号   句点    *    *         *    *    。    。         。"
      ]
     },
     "execution_count": 18,
     "metadata": {},
     "output_type": "execute_result"
    }
   ],
   "source": [
    "import re\n",
    "import os\n",
    "import collections\n",
    "import pandas as pd\n",
    "import matplotlib.pyplot as plt\n",
    "import MeCab\n",
    "\n",
    "mecab = MeCab.Tagger(\"-d /usr/local/lib/mecab/dic/mecab-ipadic-neologd\")\n",
    "\n",
    "\n",
    "def sentence_to_morphs(parser, sentence, delimiters='[\\t,]'):\n",
    "    morphs = []\n",
    "    \n",
    "    sentence = parser.parse(sentence).split(\"\\n\")\n",
    "    for s in sentence:\n",
    "        if s == \"EOS\" or s == \"\":\n",
    "            continue\n",
    "            \n",
    "        s = re.split(delimiters, s)\n",
    "        if len(s) != 10:\n",
    "            # maybe neologd only return 8? (no read, pronouce)\n",
    "            # or error?\n",
    "            s = s + [\"*\"] * (10-len(s))\n",
    "            \n",
    "        info = {\n",
    "            \"surface\": s[0],\n",
    "            \"pos\": s[1],  # part-of-speech\n",
    "            \"pos1\": s[2],\n",
    "            \"pos2\": s[3],\n",
    "            \"pos3\": s[4],\n",
    "            \"type\": s[5], # practical type?\n",
    "            \"form\": s[6],\n",
    "            \"base\": s[7],\n",
    "            \"read\": s[8],\n",
    "            \"pronounce\": s[9],\n",
    "        }\n",
    "        morphs.append(info)\n",
    "    \n",
    "    return morphs\n",
    "\n",
    "morphs = sentence_to_morphs(mecab, \"隣の客はよく柿食う客だ。\")\n",
    "morph_df = pd.DataFrame(morphs)\n",
    "morph_df"
   ]
  },
  {
   "cell_type": "code",
   "execution_count": null,
   "metadata": {},
   "outputs": [],
   "source": []
  }
 ],
 "metadata": {
  "kernelspec": {
   "display_name": "Python 3",
   "language": "python",
   "name": "python3"
  },
  "language_info": {
   "codemirror_mode": {
    "name": "ipython",
    "version": 3
   },
   "file_extension": ".py",
   "mimetype": "text/x-python",
   "name": "python",
   "nbconvert_exporter": "python",
   "pygments_lexer": "ipython3",
   "version": "3.7.7"
  }
 },
 "nbformat": 4,
 "nbformat_minor": 4
}
